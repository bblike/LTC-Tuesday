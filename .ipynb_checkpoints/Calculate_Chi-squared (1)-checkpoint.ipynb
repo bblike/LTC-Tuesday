{
 "cells": [
  {
   "cell_type": "code",
   "execution_count": 1,
   "metadata": {},
   "outputs": [
    {
     "name": "stdout",
     "output_type": "stream",
     "text": [
      "%pylab is deprecated, use %matplotlib inline and import the required libraries.\n",
      "Populating the interactive namespace from numpy and matplotlib\n"
     ]
    }
   ],
   "source": [
    "# Import relevant modules\n",
    "%pylab inline\n",
    "import numpy\n",
    "import scipy.optimize\n",
    "import scipy.stats\n",
    "import matplotlib.ticker as ticker"
   ]
  },
  {
   "cell_type": "markdown",
   "metadata": {},
   "source": [
    "# Chi-squared minimisation with 2 fitting parameters\n",
    "\n",
    "Input the experimental data with errors - for example, can copy/paste lists produced by ``Pendulum_Analysis`` Notebook. \n",
    "\n",
    "Ensure that all arrays have the same length."
   ]
  },
  {
   "cell_type": "code",
   "execution_count": 2,
   "metadata": {},
   "outputs": [],
   "source": [
    "\n",
    "xval = numpy.array([0, 15, 30, 45, 60])\n",
    "yval = numpy.array([69.92679983449095, 77.288051092258044, 83.438779433156554, 90, 100])\n",
    "yerr = numpy.array([0.29155443483946492, 0.30827638126707702, 0.24198531951798319,1, 1.2])\n",
    "\n",
    "assert len(yval) == len(xval)\n",
    "assert len(yerr) == len(yval)"
   ]
  },
  {
   "cell_type": "markdown",
   "metadata": {},
   "source": [
    "Define the functional form of the model: ``vals`` is a numpy array holding the parameter values, here intercept and slope."
   ]
  },
  {
   "cell_type": "code",
   "execution_count": 3,
   "metadata": {},
   "outputs": [],
   "source": [
    "\n",
    "def model_funct(x, vals):\n",
    "    return vals[0] + vals[1]*x"
   ]
  },
  {
   "cell_type": "markdown",
   "metadata": {},
   "source": [
    "Define initial values for fitting parameters and calculate degrees of freedom."
   ]
  },
  {
   "cell_type": "code",
   "execution_count": 4,
   "metadata": {},
   "outputs": [
    {
     "name": "stdout",
     "output_type": "stream",
     "text": [
      "DoF = 3\n"
     ]
    }
   ],
   "source": [
    "\n",
    "initial = numpy.array([0.0, 1.0]) # Initial guess for fit parameters\n",
    "deg_freedom = xval.size - initial.size # Make sure you understand why!\n",
    "print('DoF = {}'.format(deg_freedom))"
   ]
  },
  {
   "cell_type": "markdown",
   "metadata": {},
   "source": [
    "Define a function that calculates chi-squared for the model function (``model_funct``, defined above), given a set of parameter values and data set with errors."
   ]
  },
  {
   "cell_type": "code",
   "execution_count": 5,
   "metadata": {},
   "outputs": [],
   "source": [
    "\n",
    "def chisq(modelparams, x_data, y_data, y_err):\n",
    "    chisqval=0\n",
    "    for i in range(len(xval)):\n",
    "        chisqval += ((y_data[i] - model_funct(x_data[i], modelparams))/y_err[i])**2\n",
    "    return chisqval"
   ]
  },
  {
   "cell_type": "markdown",
   "metadata": {},
   "source": [
    "Produce a fit using the scipy optimize sub-module: \n",
    "\n",
    "``chisq`` is the function to be minimised - defined above, in this case giving chi-squared\n",
    "\n",
    "``initial`` is a numpy array containing the initial 'guessed' values of the parameters - defined above\n",
    "\n",
    "``args`` are additional arguments to pass to the ``chisq`` function after the array of parameters - in this case the data.\n",
    "\n",
    "There are many additional options that can be passed to the minimize function; see the ``scipy`` documentation - these are not required for the simple case here, but may be for more complex data. You will learn about how several of them work during your Computational Physics course.\n"
   ]
  },
  {
   "cell_type": "code",
   "execution_count": 6,
   "metadata": {},
   "outputs": [
    {
     "name": "stdout",
     "output_type": "stream",
     "text": [
      "Optimization terminated successfully.\n",
      "best fit a = 69.99350850040227 a_units?\n",
      "best fit b = 0.4577361001366409 b_units?\n",
      "minimised chi-squared = 8.22774570152555\n"
     ]
    }
   ],
   "source": [
    "\n",
    "fit = scipy.optimize.minimize(chisq, initial, args=(xval, yval, yerr))\n",
    "\n",
    "# Termination output message is fit.message - did the minimisation complete successfully?\n",
    "print(fit.message)\n",
    "\n",
    "# Resulting best fit parameter array is output as fit.x\n",
    "a_soln = fit.x[0]\n",
    "b_soln = fit.x[1]\n",
    "\n",
    "print('best fit a = {} a_units?'.format(a_soln))\n",
    "print('best fit b = {} b_units?'.format(b_soln))\n",
    "\n",
    "# minimized value for chisq function is fit.fun\n",
    "print('minimised chi-squared = {}'.format(fit.fun))\n",
    "\n",
    "# Take a moment at this point to think about significant figures..."
   ]
  },
  {
   "cell_type": "markdown",
   "metadata": {},
   "source": [
    "Calculate the minimized value of chi-squared again as a demonstration; this time using the ``chisq`` function directly, and best fit parameter values. Result should be the same as above..."
   ]
  },
  {
   "cell_type": "code",
   "execution_count": 7,
   "metadata": {},
   "outputs": [
    {
     "name": "stdout",
     "output_type": "stream",
     "text": [
      "chi^2_min = 8.22774570152555\n"
     ]
    }
   ],
   "source": [
    "\n",
    "chisq_min = chisq([a_soln, b_soln], xval, yval, yerr)\n",
    "print('chi^2_min = {}'.format(chisq_min))"
   ]
  },
  {
   "cell_type": "markdown",
   "metadata": {},
   "source": [
    "Calculate the reduced chi-squared value from minimized chi-squared "
   ]
  },
  {
   "cell_type": "code",
   "execution_count": 8,
   "metadata": {},
   "outputs": [
    {
     "name": "stdout",
     "output_type": "stream",
     "text": [
      "reduced chi^2 = 2.7425819005085166\n"
     ]
    }
   ],
   "source": [
    "\n",
    "chisq_reduced = chisq_min/deg_freedom\n",
    "print('reduced chi^2 = {}'.format(chisq_reduced))"
   ]
  },
  {
   "cell_type": "markdown",
   "metadata": {},
   "source": [
    "Calculate the 'P-value', as described in Skills 1 & 2. ``scipy.stats.chi2.sf`` is the Python equivalent of ``chidist`` in Excel. "
   ]
  },
  {
   "cell_type": "code",
   "execution_count": 9,
   "metadata": {},
   "outputs": [
    {
     "name": "stdout",
     "output_type": "stream",
     "text": [
      "$P(chi^2_min, DoF)$ = 0.04153207228385709\n"
     ]
    }
   ],
   "source": [
    "\n",
    "P = scipy.stats.chi2.sf(chisq_min, deg_freedom)\n",
    "print('$P(chi^2_min, DoF)$ = {}'.format(P))"
   ]
  },
  {
   "cell_type": "markdown",
   "metadata": {},
   "source": [
    "Plot the data and best fit - data should have error-bars and no joining lines, fit is shown by a solid line.\n"
   ]
  },
  {
   "cell_type": "code",
   "execution_count": 10,
   "metadata": {},
   "outputs": [
    {
     "data": {
      "image/png": "[encoded data removed]",
      "text/plain": [
       "<Figure size 432x288 with 1 Axes>"
      ]
     },
     "metadata": {
      "needs_background": "light"
     },
     "output_type": "display_data"
    }
   ],
   "source": [
    "\n",
    "pyplot.figure()\n",
    "pyplot.errorbar(xval, yval, yerr=yerr, marker='o', linestyle='None')\n",
    "\n",
    "# Axis labels\n",
    "pyplot.xlabel('x (units)')\n",
    "pyplot.ylabel('y (units)')\n",
    "\n",
    "# Generate best fit line using model function and best fit parameters, and add to plot\n",
    "fit_line=model_funct(xval, [a_soln, b_soln])\n",
    "pyplot.plot(xval, fit_line, 'r')\n",
    "\n",
    "# Set suitable axis limits: you will probably need to change these...\n",
    "#pyplot.xlim(-1, 61)\n",
    "#pyplot.ylim(65, 105)\n",
    "pyplot.show()\n",
    "\n",
    "# What about plotting the (normalised) residuals?"
   ]
  },
  {
   "cell_type": "markdown",
   "metadata": {},
   "source": [
    "In the many cases where ``model_funct`` may not describe a straight line, the line of best fit used likely appears jagged as values are only calculated and plotted at positions corresponding to the measured values of the independent variable. We can produce a smoother curve by interpolation using our optimised parameter values and model function to calculate the line of best fit at intermediate points."
   ]
  },
  {
   "cell_type": "code",
   "execution_count": 11,
   "metadata": {},
   "outputs": [
    {
     "data": {
      "image/png": "[encoded data removed]",
      "text/plain": [
       "<Figure size 432x288 with 1 Axes>"
      ]
     },
     "metadata": {
      "needs_background": "light"
     },
     "output_type": "display_data"
    }
   ],
   "source": [
    "\n",
    "smooth_xval = numpy.linspace(xval[0], xval[-1], 1000)   # make a smoother line - use 1000 equally spaced \n",
    "                                                        # points over the range of the 39 measured points.\n",
    "pyplot.figure()\n",
    "pyplot.errorbar(xval, yval, yerr=yerr, marker='o', linestyle='None')\n",
    "\n",
    "pyplot.xlabel('x (units)')\n",
    "pyplot.ylabel('y (units)')\n",
    "\n",
    "simulated_line = model_funct(smooth_xval, [a_soln, b_soln]) \n",
    "pyplot.plot(smooth_xval, simulated_line, 'r')\n",
    "pyplot.show()\n"
   ]
  },
  {
   "cell_type": "markdown",
   "metadata": {},
   "source": [
    "Generate data for 2D plots of the chi squared landscape. \n",
    "Note that this is not a very computationally efficient approach, so unsuited to more complex problems.\n",
    "It will also only work 'correctly' for a 2-parameter fit...\n",
    "\n",
    "``a_low``, ``a_high``, ``b_low``, and ``b_high`` are the axis ranges for 2D plot - adjust these to suit."
   ]
  },
  {
   "cell_type": "code",
   "execution_count": null,
   "metadata": {},
   "outputs": [],
   "source": [
    "\n",
    "a_low, a_high = a_soln-1, a_soln+1 \n",
    "b_low, b_high = b_soln-0.05, b_soln+0.05 \n",
    "\n",
    "# Generate grid and data\n",
    "da = (a_high - a_low)/1000.0\n",
    "db = (b_high - b_low)/1000.0\n",
    "a_axis = numpy.arange(a_low, a_high, da)\n",
    "b_axis = numpy.arange(b_low, b_high, db)\n",
    "plot_data = numpy.zeros((len(a_axis), len(b_axis)))\n",
    "for i, bval in enumerate(b_axis):\n",
    "    for j, aval in enumerate(a_axis):\n",
    "        plot_data[i][j] = chisq([aval, bval], xval, yval, yerr)"
   ]
  },
  {
   "cell_type": "markdown",
   "metadata": {},
   "source": [
    "As an example, produce a colour plot of chi-squared landscape."
   ]
  },
  {
   "cell_type": "code",
   "execution_count": null,
   "metadata": {},
   "outputs": [],
   "source": [
    "\n",
    "pyplot.figure(figsize=(8,12))\n",
    "im = pyplot.imshow(plot_data, extent = (a_low, a_high, b_low, b_high), origin = 'lower', \n",
    "                   cmap=matplotlib.cm.copper, aspect='auto')\n",
    "pyplot.ylim(b_low, b_high)\n",
    "pyplot.xlim(a_low, a_high)\n",
    "\n",
    "# Axis labels\n",
    "pyplot.ylabel('b (units?)')\n",
    "pyplot.xlabel('a (units?)')\n",
    "\n",
    "# Colorbar and label\n",
    "cbar=pyplot.colorbar(im, orientation = 'vertical')\n",
    "cbar.set_label('$\\chi^2$', fontsize=12)\n",
    "\n",
    "# Add in best fit point and dashed lines\n",
    "pyplot.plot(a_soln, b_soln, 'wo')\n",
    "pyplot.plot((a_soln, a_soln), (b_low, b_soln), linestyle='--', color='w')\n",
    "pyplot.plot((a_low, a_soln), (b_soln, b_soln), linestyle='--', color='w')\n",
    "pyplot.show()"
   ]
  },
  {
   "cell_type": "markdown",
   "metadata": {},
   "source": [
    "A more useful example: Produce a contour plot of 'delta chi-squared' (= chi-squared(a,b) - chi-squared_min).\n",
    "\n",
    "Don't worry about 'unicode' warnings that may appear on the first run through."
   ]
  },
  {
   "cell_type": "code",
   "execution_count": null,
   "metadata": {},
   "outputs": [],
   "source": [
    "\n",
    "X, Y = numpy.meshgrid(a_axis, b_axis, indexing='xy')\n",
    "contour_data = plot_data - chisq_min\n",
    "\n",
    "# Contour levels to plot - delta chi-squared of 1, 4 & 9 correspond to 1, 2 & 3 standard deviations\n",
    "levels = [1, 4, 9]\n",
    "C_im = pyplot.contour(X, Y, contour_data, levels = levels, colors='b', origin = 'lower')\n",
    "pyplot.clabel(C_im, levels, fontsize=12, inline=1, fmt=r'$\\chi^2 = \\chi^2_{min}+%1.0f$') \n",
    "\n",
    "# Axis labels\n",
    "pyplot.xlabel('a (units?)')\n",
    "pyplot.ylabel('b (units?)')\n",
    "\n",
    "# This allows you to modify the tick markers to assess the errors from the chi-squared contour plots.\n",
    "xtick_spacing = 0.25\n",
    "ytick_spacing = 0.01\n",
    "\n",
    "ax = pyplot.gca()\n",
    "ax.xaxis.set_major_locator(ticker.MultipleLocator(xtick_spacing))\n",
    "ax.yaxis.set_major_locator(ticker.MultipleLocator(ytick_spacing))\n",
    "\n",
    "\n",
    "# Add in best fit point and dashed lines to axes\n",
    "pyplot.plot(a_soln, b_soln, 'ro')\n",
    "pyplot.plot((a_soln, a_soln), (b_low, b_soln), linestyle='--', color='r')\n",
    "pyplot.plot((a_low, a_soln), (b_soln, b_soln), linestyle='--', color='r')\n",
    "pyplot.show()"
   ]
  },
  {
   "cell_type": "markdown",
   "metadata": {},
   "source": [
    "It is also possible to determine error bars from extrema of chi-squared+1 contour in 2D parameter space. "
   ]
  },
  {
   "cell_type": "code",
   "execution_count": null,
   "metadata": {},
   "outputs": [],
   "source": [
    "\n",
    "contours = C_im.collections[0].get_paths()    # Get hold of the contours from the plot\n",
    "onesigma_contour = contours[0].vertices       # Grab the set of points constituting the one confidence \n",
    "                                              # interval contour\n",
    "maxs = numpy.amax(onesigma_contour, axis=0)   # Get the extrema along the two axes - max and min values\n",
    "mins = numpy.amin(onesigma_contour, axis=0)\n",
    "errs = (maxs-mins)/2                          # Calculate one standard error in the parameters\n",
    "\n",
    "a_err = errs[0]\n",
    "b_err = errs[1]\n",
    "a_err, b_err                                  \n",
    "\n",
    "# Please do take another moment at this point to again think about significant figures..."
   ]
  },
  {
   "cell_type": "code",
   "execution_count": null,
   "metadata": {},
   "outputs": [],
   "source": []
  }
 ],
 "metadata": {
  "kernelspec": {
   "display_name": "Python 3 (ipykernel)",
   "language": "python",
   "name": "python3"
  },
  "language_info": {
   "codemirror_mode": {
    "name": "ipython",
    "version": 3
   },
   "file_extension": ".py",
   "mimetype": "text/x-python",
   "name": "python",
   "nbconvert_exporter": "python",
   "pygments_lexer": "ipython3",
   "version": "3.9.12"
  }
 },
 "nbformat": 4,
 "nbformat_minor": 1
}
